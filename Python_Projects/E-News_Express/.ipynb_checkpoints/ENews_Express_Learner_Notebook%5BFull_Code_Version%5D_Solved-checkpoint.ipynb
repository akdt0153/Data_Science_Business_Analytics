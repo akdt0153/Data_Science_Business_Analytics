{
 "cells": [
  {
   "cell_type": "markdown",
   "id": "6yDxo9u0d9Na",
   "metadata": {
    "id": "6yDxo9u0d9Na"
   },
   "source": [
    "# Project Business Statistics: E-news Express\n",
    "\n",
    "**Marks: 60**"
   ]
  },
  {
   "cell_type": "markdown",
   "id": "SrLd-ICEmPSD",
   "metadata": {
    "id": "SrLd-ICEmPSD"
   },
   "source": [
    "## Define Problem Statement and Objectives"
   ]
  },
  {
   "cell_type": "markdown",
   "id": "9Vt1PLLqmXNn",
   "metadata": {
    "id": "9Vt1PLLqmXNn"
   },
   "source": [
    "## Business Context\n",
    "\n",
    "The advent of e-news, or electronic news, portals has offered us a great opportunity to quickly get updates on the day-to-day events occurring globally. The information on these portals is retrieved electronically from online databases, processed using a variety of software, and then transmitted to the users. There are multiple advantages of transmitting new electronically, like faster access to the content and the ability to utilize different technologies such as audio, graphics, video, and other interactive elements that are either not being used or aren’t common yet in traditional newspapers.\n",
    "\n",
    "\n",
    "## Problem statement\n",
    "E-news Express, an online news portal, aims to expand its business by acquiring new subscribers. With every visitor to the website taking certain actions based on their interest, the company plans to analyze these actions to understand user interests and determine how to drive better engagement.  The executives at E-news Express are of the opinion that there has been a decline in new monthly subscribers compared to the past year because the current webpage is not designed well enough in terms of the outline & recommended content to keep customers engaged long enough to make a decision to subscribe.\n",
    "\n",
    "[Companies often analyze user responses to two variants of a product to decide which of the two variants is more effective. This experimental technique, known as A/B testing, is used to determine whether a new feature attracts users based on a chosen metric.]\n",
    "\n",
    "## Objective\n",
    "\n",
    "The design team of the company has researched and created a new landing page that has a new outline & more relevant content shown compared to the old page. In order to test the effectiveness of the new landing page in gathering new subscribers, the Data Science team conducted an experiment by randomly selecting 100 users and dividing them equally into two groups. The existing landing page was served to the first group (control group) and the new landing page to the second group (treatment group). Data regarding the interaction of users in both groups with the two versions of the landing page was collected.We have been asked to explore the data and perform a statistical analysis (at a significance level of 5%) to determine the effectiveness of the new landing page in gathering new subscribers for the news portal by answering the following questions:\n",
    "\n",
    "1. Do the users spend more time on the new landing page than on the existing landing page?\n",
    "\n",
    "2. Is the conversion rate (the proportion of users who visit the landing page and get converted) for the new page greater than the conversion rate for the old page?\n",
    "\n",
    "3. Does the converted status depend on the preferred language?\n",
    "\n",
    "4. Is the time spent on the new page the same for the different language users?"
   ]
  },
  {
   "cell_type": "markdown",
   "id": "a6a3d218",
   "metadata": {
    "id": "a6a3d218"
   },
   "source": [
    "## Import all the necessary libraries"
   ]
  },
  {
   "cell_type": "code",
   "execution_count": 188,
   "id": "658c5dec",
   "metadata": {
    "id": "658c5dec"
   },
   "outputs": [],
   "source": [
    "import numpy as np\n",
    "import pandas as pd\n",
    "import matplotlib.pyplot as plt\n",
    "import seaborn as sns"
   ]
  },
  {
   "cell_type": "markdown",
   "id": "6970dd99",
   "metadata": {
    "id": "6970dd99"
   },
   "source": [
    "## Reading the Data into a DataFrame"
   ]
  },
  {
   "cell_type": "code",
   "execution_count": 189,
   "id": "d3b95640",
   "metadata": {
    "id": "d3b95640"
   },
   "outputs": [],
   "source": [
    "df=pd.read_csv('C:/Users/AK153/GREAT LEARNING/Module 2 Project 2 Business Statistics (E-News Express)/abtest.csv')"
   ]
  },
  {
   "cell_type": "markdown",
   "id": "9d75cfa2",
   "metadata": {
    "id": "9d75cfa2"
   },
   "source": [
    "## Explore the dataset and extract insights using Exploratory Data Analysis"
   ]
  },
  {
   "cell_type": "markdown",
   "id": "27201534",
   "metadata": {
    "id": "27201534"
   },
   "source": [
    "- Data Overview\n",
    "  - Viewing the first and last few rows of the dataset\n",
    "  - Checking the shape of the dataset\n",
    "  - Getting the statistical summary for the variables\n",
    "- Check for missing values\n",
    "- Check for duplicates"
   ]
  },
  {
   "cell_type": "code",
   "execution_count": 190,
   "id": "e1ad11d4",
   "metadata": {
    "id": "e1ad11d4"
   },
   "outputs": [
    {
     "data": {
      "text/html": [
       "<div>\n",
       "<style scoped>\n",
       "    .dataframe tbody tr th:only-of-type {\n",
       "        vertical-align: middle;\n",
       "    }\n",
       "\n",
       "    .dataframe tbody tr th {\n",
       "        vertical-align: top;\n",
       "    }\n",
       "\n",
       "    .dataframe thead th {\n",
       "        text-align: right;\n",
       "    }\n",
       "</style>\n",
       "<table border=\"1\" class=\"dataframe\">\n",
       "  <thead>\n",
       "    <tr style=\"text-align: right;\">\n",
       "      <th></th>\n",
       "      <th>user_id</th>\n",
       "      <th>group</th>\n",
       "      <th>landing_page</th>\n",
       "      <th>time_spent_on_the_page</th>\n",
       "      <th>converted</th>\n",
       "      <th>language_preferred</th>\n",
       "    </tr>\n",
       "  </thead>\n",
       "  <tbody>\n",
       "    <tr>\n",
       "      <th>0</th>\n",
       "      <td>546592</td>\n",
       "      <td>control</td>\n",
       "      <td>old</td>\n",
       "      <td>3.48</td>\n",
       "      <td>no</td>\n",
       "      <td>Spanish</td>\n",
       "    </tr>\n",
       "    <tr>\n",
       "      <th>1</th>\n",
       "      <td>546468</td>\n",
       "      <td>treatment</td>\n",
       "      <td>new</td>\n",
       "      <td>7.13</td>\n",
       "      <td>yes</td>\n",
       "      <td>English</td>\n",
       "    </tr>\n",
       "    <tr>\n",
       "      <th>2</th>\n",
       "      <td>546462</td>\n",
       "      <td>treatment</td>\n",
       "      <td>new</td>\n",
       "      <td>4.40</td>\n",
       "      <td>no</td>\n",
       "      <td>Spanish</td>\n",
       "    </tr>\n",
       "    <tr>\n",
       "      <th>3</th>\n",
       "      <td>546567</td>\n",
       "      <td>control</td>\n",
       "      <td>old</td>\n",
       "      <td>3.02</td>\n",
       "      <td>no</td>\n",
       "      <td>French</td>\n",
       "    </tr>\n",
       "    <tr>\n",
       "      <th>4</th>\n",
       "      <td>546459</td>\n",
       "      <td>treatment</td>\n",
       "      <td>new</td>\n",
       "      <td>4.75</td>\n",
       "      <td>yes</td>\n",
       "      <td>Spanish</td>\n",
       "    </tr>\n",
       "  </tbody>\n",
       "</table>\n",
       "</div>"
      ],
      "text/plain": [
       "   user_id      group landing_page  time_spent_on_the_page converted  \\\n",
       "0   546592    control          old                    3.48        no   \n",
       "1   546468  treatment          new                    7.13       yes   \n",
       "2   546462  treatment          new                    4.40        no   \n",
       "3   546567    control          old                    3.02        no   \n",
       "4   546459  treatment          new                    4.75       yes   \n",
       "\n",
       "  language_preferred  \n",
       "0            Spanish  \n",
       "1            English  \n",
       "2            Spanish  \n",
       "3             French  \n",
       "4            Spanish  "
      ]
     },
     "execution_count": 190,
     "metadata": {},
     "output_type": "execute_result"
    }
   ],
   "source": [
    "# shows the first 5 rows of the dataset\n",
    "df.head()"
   ]
  },
  {
   "cell_type": "code",
   "execution_count": 191,
   "id": "e23a2689",
   "metadata": {},
   "outputs": [
    {
     "data": {
      "text/html": [
       "<div>\n",
       "<style scoped>\n",
       "    .dataframe tbody tr th:only-of-type {\n",
       "        vertical-align: middle;\n",
       "    }\n",
       "\n",
       "    .dataframe tbody tr th {\n",
       "        vertical-align: top;\n",
       "    }\n",
       "\n",
       "    .dataframe thead th {\n",
       "        text-align: right;\n",
       "    }\n",
       "</style>\n",
       "<table border=\"1\" class=\"dataframe\">\n",
       "  <thead>\n",
       "    <tr style=\"text-align: right;\">\n",
       "      <th></th>\n",
       "      <th>user_id</th>\n",
       "      <th>group</th>\n",
       "      <th>landing_page</th>\n",
       "      <th>time_spent_on_the_page</th>\n",
       "      <th>converted</th>\n",
       "      <th>language_preferred</th>\n",
       "    </tr>\n",
       "  </thead>\n",
       "  <tbody>\n",
       "    <tr>\n",
       "      <th>95</th>\n",
       "      <td>546446</td>\n",
       "      <td>treatment</td>\n",
       "      <td>new</td>\n",
       "      <td>5.15</td>\n",
       "      <td>no</td>\n",
       "      <td>Spanish</td>\n",
       "    </tr>\n",
       "    <tr>\n",
       "      <th>96</th>\n",
       "      <td>546544</td>\n",
       "      <td>control</td>\n",
       "      <td>old</td>\n",
       "      <td>6.52</td>\n",
       "      <td>yes</td>\n",
       "      <td>English</td>\n",
       "    </tr>\n",
       "    <tr>\n",
       "      <th>97</th>\n",
       "      <td>546472</td>\n",
       "      <td>treatment</td>\n",
       "      <td>new</td>\n",
       "      <td>7.07</td>\n",
       "      <td>yes</td>\n",
       "      <td>Spanish</td>\n",
       "    </tr>\n",
       "    <tr>\n",
       "      <th>98</th>\n",
       "      <td>546481</td>\n",
       "      <td>treatment</td>\n",
       "      <td>new</td>\n",
       "      <td>6.20</td>\n",
       "      <td>yes</td>\n",
       "      <td>Spanish</td>\n",
       "    </tr>\n",
       "    <tr>\n",
       "      <th>99</th>\n",
       "      <td>546483</td>\n",
       "      <td>treatment</td>\n",
       "      <td>new</td>\n",
       "      <td>5.86</td>\n",
       "      <td>yes</td>\n",
       "      <td>English</td>\n",
       "    </tr>\n",
       "  </tbody>\n",
       "</table>\n",
       "</div>"
      ],
      "text/plain": [
       "    user_id      group landing_page  time_spent_on_the_page converted  \\\n",
       "95   546446  treatment          new                    5.15        no   \n",
       "96   546544    control          old                    6.52       yes   \n",
       "97   546472  treatment          new                    7.07       yes   \n",
       "98   546481  treatment          new                    6.20       yes   \n",
       "99   546483  treatment          new                    5.86       yes   \n",
       "\n",
       "   language_preferred  \n",
       "95            Spanish  \n",
       "96            English  \n",
       "97            Spanish  \n",
       "98            Spanish  \n",
       "99            English  "
      ]
     },
     "execution_count": 191,
     "metadata": {},
     "output_type": "execute_result"
    }
   ],
   "source": [
    "# shows the last 5 rows of the dataset\n",
    "df.tail()"
   ]
  },
  {
   "cell_type": "markdown",
   "id": "e4afb7ee",
   "metadata": {},
   "source": [
    "Observations: We can see that the dataset has 6 columns with one 2 Numerical columns."
   ]
  },
  {
   "cell_type": "code",
   "execution_count": 192,
   "id": "87070e66",
   "metadata": {},
   "outputs": [
    {
     "data": {
      "text/plain": [
       "(100, 6)"
      ]
     },
     "execution_count": 192,
     "metadata": {},
     "output_type": "execute_result"
    }
   ],
   "source": [
    "# checks the shape of the dataset\n",
    "df.shape"
   ]
  },
  {
   "cell_type": "markdown",
   "id": "e5ee84ef",
   "metadata": {},
   "source": [
    "Observations: We can see that dataset is formed by 100 rows and 6 columns."
   ]
  },
  {
   "cell_type": "code",
   "execution_count": 193,
   "id": "8d1b553f",
   "metadata": {},
   "outputs": [
    {
     "name": "stdout",
     "output_type": "stream",
     "text": [
      "<class 'pandas.core.frame.DataFrame'>\n",
      "RangeIndex: 100 entries, 0 to 99\n",
      "Data columns (total 6 columns):\n",
      " #   Column                  Non-Null Count  Dtype  \n",
      "---  ------                  --------------  -----  \n",
      " 0   user_id                 100 non-null    int64  \n",
      " 1   group                   100 non-null    object \n",
      " 2   landing_page            100 non-null    object \n",
      " 3   time_spent_on_the_page  100 non-null    float64\n",
      " 4   converted               100 non-null    object \n",
      " 5   language_preferred      100 non-null    object \n",
      "dtypes: float64(1), int64(1), object(4)\n",
      "memory usage: 4.8+ KB\n"
     ]
    }
   ],
   "source": [
    "# checks the datatype of the columns in the dataset\n",
    "df.info()"
   ]
  },
  {
   "cell_type": "markdown",
   "id": "2c8bb908",
   "metadata": {},
   "source": [
    "Observations: We can observe that the dataset has 1 integer type column, 1 float type column and 4 Object type columns."
   ]
  },
  {
   "cell_type": "code",
   "execution_count": 194,
   "id": "7cb482ee",
   "metadata": {},
   "outputs": [
    {
     "data": {
      "text/html": [
       "<div>\n",
       "<style scoped>\n",
       "    .dataframe tbody tr th:only-of-type {\n",
       "        vertical-align: middle;\n",
       "    }\n",
       "\n",
       "    .dataframe tbody tr th {\n",
       "        vertical-align: top;\n",
       "    }\n",
       "\n",
       "    .dataframe thead th {\n",
       "        text-align: right;\n",
       "    }\n",
       "</style>\n",
       "<table border=\"1\" class=\"dataframe\">\n",
       "  <thead>\n",
       "    <tr style=\"text-align: right;\">\n",
       "      <th></th>\n",
       "      <th>count</th>\n",
       "      <th>mean</th>\n",
       "      <th>std</th>\n",
       "      <th>min</th>\n",
       "      <th>25%</th>\n",
       "      <th>50%</th>\n",
       "      <th>75%</th>\n",
       "      <th>max</th>\n",
       "    </tr>\n",
       "  </thead>\n",
       "  <tbody>\n",
       "    <tr>\n",
       "      <th>user_id</th>\n",
       "      <td>100.0</td>\n",
       "      <td>546517.0000</td>\n",
       "      <td>52.295779</td>\n",
       "      <td>546443.00</td>\n",
       "      <td>546467.75</td>\n",
       "      <td>546492.500</td>\n",
       "      <td>546567.2500</td>\n",
       "      <td>546592.00</td>\n",
       "    </tr>\n",
       "    <tr>\n",
       "      <th>time_spent_on_the_page</th>\n",
       "      <td>100.0</td>\n",
       "      <td>5.3778</td>\n",
       "      <td>2.378166</td>\n",
       "      <td>0.19</td>\n",
       "      <td>3.88</td>\n",
       "      <td>5.415</td>\n",
       "      <td>7.0225</td>\n",
       "      <td>10.71</td>\n",
       "    </tr>\n",
       "  </tbody>\n",
       "</table>\n",
       "</div>"
      ],
      "text/plain": [
       "                        count         mean        std        min        25%  \\\n",
       "user_id                 100.0  546517.0000  52.295779  546443.00  546467.75   \n",
       "time_spent_on_the_page  100.0       5.3778   2.378166       0.19       3.88   \n",
       "\n",
       "                               50%          75%        max  \n",
       "user_id                 546492.500  546567.2500  546592.00  \n",
       "time_spent_on_the_page       5.415       7.0225      10.71  "
      ]
     },
     "execution_count": 194,
     "metadata": {},
     "output_type": "execute_result"
    }
   ],
   "source": [
    "# Getting the Statistical summary of the dataset\n",
    "df.describe().T"
   ]
  },
  {
   "cell_type": "markdown",
   "id": "1cfcc4c9",
   "metadata": {},
   "source": [
    "Observations:(1) We can observe that the minimum time spent on the website is 0.19 and maximum time spent is 10.71                    \n",
    "             (2)We can observe that the avergae time spent on the website is 5.37 and median is also almost same as mean so the dataset can be of a Normal distribution."
   ]
  },
  {
   "cell_type": "code",
   "execution_count": 195,
   "id": "3fc903e9",
   "metadata": {},
   "outputs": [
    {
     "data": {
      "text/plain": [
       "user_id                   0\n",
       "group                     0\n",
       "landing_page              0\n",
       "time_spent_on_the_page    0\n",
       "converted                 0\n",
       "language_preferred        0\n",
       "dtype: int64"
      ]
     },
     "execution_count": 195,
     "metadata": {},
     "output_type": "execute_result"
    }
   ],
   "source": [
    "# Checks if there are any missing values in the dataset\n",
    "df.isnull().sum()"
   ]
  },
  {
   "cell_type": "markdown",
   "id": "38b2960b",
   "metadata": {},
   "source": [
    "Observations: We can conclude that there are no missing values in the dataset."
   ]
  },
  {
   "cell_type": "code",
   "execution_count": 196,
   "id": "4eab7d3f",
   "metadata": {},
   "outputs": [
    {
     "data": {
      "text/plain": [
       "0"
      ]
     },
     "execution_count": 196,
     "metadata": {},
     "output_type": "execute_result"
    }
   ],
   "source": [
    "# Checks if there are any dupliate values in the dataset\n",
    "df.duplicated().sum()"
   ]
  },
  {
   "cell_type": "markdown",
   "id": "4602b35f",
   "metadata": {},
   "source": [
    "Observations: There are no duplicate Values in the dataset."
   ]
  },
  {
   "cell_type": "markdown",
   "id": "68f3b2c9",
   "metadata": {
    "id": "68f3b2c9"
   },
   "source": [
    "### Univariate Analysis"
   ]
  },
  {
   "cell_type": "markdown",
   "id": "bd2720b8",
   "metadata": {
    "id": "1932d0f3"
   },
   "source": [
    "#### Time Spent on the Page"
   ]
  },
  {
   "cell_type": "code",
   "execution_count": 197,
   "id": "cc14aae2",
   "metadata": {},
   "outputs": [
    {
     "data": {
      "image/png": "[encoded data removed]",
      "text/plain": [
       "<Figure size 432x288 with 1 Axes>"
      ]
     },
     "metadata": {
      "needs_background": "light"
     },
     "output_type": "display_data"
    },
    {
     "data": {
      "image/png": "[encoded data removed]",
      "text/plain": [
       "<Figure size 432x288 with 1 Axes>"
      ]
     },
     "metadata": {
      "needs_background": "light"
     },
     "output_type": "display_data"
    }
   ],
   "source": [
    "sns.histplot(data=df,x='time_spent_on_the_page',color='green',kde=True)\n",
    "plt.xlabel('Time Spent On The Page')\n",
    "plt.show()\n",
    "sns.boxplot(data=df,x='time_spent_on_the_page',color='orange')\n",
    "plt.xlabel('Time Spent On The Page')\n",
    "plt.show()"
   ]
  },
  {
   "cell_type": "markdown",
   "id": "dc29520a",
   "metadata": {},
   "source": [
    "Observations :We can see that the data is normal distributed and the majority time spent on the page by visitors is between 3.88 to 7"
   ]
  },
  {
   "cell_type": "markdown",
   "id": "7f811184",
   "metadata": {},
   "source": [
    "#### Group"
   ]
  },
  {
   "cell_type": "code",
   "execution_count": 198,
   "id": "7a01b5d7",
   "metadata": {},
   "outputs": [
    {
     "data": {
      "text/plain": [
       "treatment    50\n",
       "control      50\n",
       "Name: group, dtype: int64"
      ]
     },
     "execution_count": 198,
     "metadata": {},
     "output_type": "execute_result"
    }
   ],
   "source": [
    "df['group'].value_counts()"
   ]
  },
  {
   "cell_type": "code",
   "execution_count": 199,
   "id": "8b8cb273",
   "metadata": {},
   "outputs": [
    {
     "data": {
      "image/png": "[encoded data removed]",
      "text/plain": [
       "<Figure size 432x288 with 1 Axes>"
      ]
     },
     "metadata": {
      "needs_background": "light"
     },
     "output_type": "display_data"
    }
   ],
   "source": [
    "sns.countplot(data=df,x='group')\n",
    "plt.xlabel('Group')\n",
    "plt.show()"
   ]
  },
  {
   "cell_type": "markdown",
   "id": "8f16a885",
   "metadata": {},
   "source": [
    "#### Landing Page"
   ]
  },
  {
   "cell_type": "code",
   "execution_count": 200,
   "id": "069ffb20",
   "metadata": {},
   "outputs": [
    {
     "data": {
      "text/plain": [
       "new    50\n",
       "old    50\n",
       "Name: landing_page, dtype: int64"
      ]
     },
     "execution_count": 200,
     "metadata": {},
     "output_type": "execute_result"
    }
   ],
   "source": [
    "df['landing_page'].value_counts()"
   ]
  },
  {
   "cell_type": "code",
   "execution_count": 201,
   "id": "b14660af",
   "metadata": {},
   "outputs": [
    {
     "data": {
      "image/png": "[encoded data removed]",
      "text/plain": [
       "<Figure size 432x288 with 1 Axes>"
      ]
     },
     "metadata": {
      "needs_background": "light"
     },
     "output_type": "display_data"
    }
   ],
   "source": [
    "sns.countplot(data=df,x='landing_page')\n",
    "plt.xlabel('Landing Page')\n",
    "plt.show()"
   ]
  },
  {
   "cell_type": "markdown",
   "id": "5a168819",
   "metadata": {},
   "source": [
    "#### Converted"
   ]
  },
  {
   "cell_type": "code",
   "execution_count": 202,
   "id": "0bc4f6c8",
   "metadata": {},
   "outputs": [
    {
     "data": {
      "text/plain": [
       "yes    54\n",
       "no     46\n",
       "Name: converted, dtype: int64"
      ]
     },
     "execution_count": 202,
     "metadata": {},
     "output_type": "execute_result"
    }
   ],
   "source": [
    "df['converted'].value_counts()"
   ]
  },
  {
   "cell_type": "code",
   "execution_count": 203,
   "id": "00c549be",
   "metadata": {},
   "outputs": [
    {
     "data": {
      "image/png": "[encoded data removed]",
      "text/plain": [
       "<Figure size 432x288 with 1 Axes>"
      ]
     },
     "metadata": {
      "needs_background": "light"
     },
     "output_type": "display_data"
    }
   ],
   "source": [
    "sns.countplot(data=df,x='converted')\n",
    "plt.xlabel('Converted')\n",
    "plt.show()"
   ]
  },
  {
   "cell_type": "markdown",
   "id": "58e2f87a",
   "metadata": {},
   "source": [
    "Observations: We can see that the number of visitors converted is more than the number visitors who are not converted. "
   ]
  },
  {
   "cell_type": "markdown",
   "id": "38be14c5",
   "metadata": {},
   "source": [
    "#### Language Preferred"
   ]
  },
  {
   "cell_type": "code",
   "execution_count": 204,
   "id": "0b824b71",
   "metadata": {},
   "outputs": [
    {
     "data": {
      "text/plain": [
       "Spanish    34\n",
       "French     34\n",
       "English    32\n",
       "Name: language_preferred, dtype: int64"
      ]
     },
     "execution_count": 204,
     "metadata": {},
     "output_type": "execute_result"
    }
   ],
   "source": [
    "df['language_preferred'].value_counts()"
   ]
  },
  {
   "cell_type": "code",
   "execution_count": 205,
   "id": "042824ac",
   "metadata": {},
   "outputs": [
    {
     "data": {
      "image/png": "[encoded data removed]",
      "text/plain": [
       "<Figure size 432x288 with 1 Axes>"
      ]
     },
     "metadata": {
      "needs_background": "light"
     },
     "output_type": "display_data"
    }
   ],
   "source": [
    "sns.countplot(data=df,x='language_preferred')\n",
    "plt.show()"
   ]
  },
  {
   "cell_type": "markdown",
   "id": "c00685c5",
   "metadata": {},
   "source": [
    "Observations : We can see that English is slightly less preferred language compared to Spanish and French in the dataset."
   ]
  },
  {
   "cell_type": "markdown",
   "id": "fad2de2f",
   "metadata": {
    "id": "fad2de2f"
   },
   "source": [
    "### Bivariate Analysis"
   ]
  },
  {
   "cell_type": "markdown",
   "id": "dde5db65",
   "metadata": {
    "id": "58e9a1d0"
   },
   "source": [
    "#### Landing Page VS Time Spent On The Page"
   ]
  },
  {
   "cell_type": "code",
   "execution_count": 206,
   "id": "322f1b96",
   "metadata": {},
   "outputs": [
    {
     "data": {
      "image/png": "[encoded data removed]",
      "text/plain": [
       "<Figure size 720x432 with 1 Axes>"
      ]
     },
     "metadata": {
      "needs_background": "light"
     },
     "output_type": "display_data"
    },
    {
     "data": {
      "image/png": "[encoded data removed]",
      "text/plain": [
       "<Figure size 720x432 with 1 Axes>"
      ]
     },
     "metadata": {
      "needs_background": "light"
     },
     "output_type": "display_data"
    }
   ],
   "source": [
    "plt.figure(figsize=(10,6))\n",
    "sns.boxplot(data=df,x='landing_page',y='time_spent_on_the_page')\n",
    "plt.xlabel('Landing Page')\n",
    "plt.ylabel('Time Spent On The Page')\n",
    "plt.show()\n",
    "plt.figure(figsize=(10,6))\n",
    "sns.histplot( data = df, x = 'time_spent_on_the_page', hue = 'landing_page', kde = True, binwidth = 1)\n",
    "plt.show()"
   ]
  },
  {
   "cell_type": "markdown",
   "id": "0113a001",
   "metadata": {},
   "source": [
    "**Observations :** \n",
    "* The spent time data for both groups (with new and old landing pages) seem to be almost normally distributed, with very slight right skewness.\n",
    "* The mean and median for the spent time by the sampled users landing on the new page are larger than the spent time by the sampled users landing on the old page."
   ]
  },
  {
   "cell_type": "markdown",
   "id": "880cc020",
   "metadata": {},
   "source": [
    "#### Conversion Status VS Time Spent On The Page"
   ]
  },
  {
   "cell_type": "code",
   "execution_count": 207,
   "id": "24546f8b",
   "metadata": {},
   "outputs": [
    {
     "data": {
      "image/png": "[encoded data removed]",
      "text/plain": [
       "<Figure size 720x432 with 1 Axes>"
      ]
     },
     "metadata": {
      "needs_background": "light"
     },
     "output_type": "display_data"
    }
   ],
   "source": [
    "plt.figure(figsize=(10,6))\n",
    "sns.boxplot(data=df,x='converted',y='time_spent_on_the_page')\n",
    "plt.xlabel('Conversion Status')\n",
    "plt.ylabel('Time Spent On The Page')\n",
    "plt.show()"
   ]
  },
  {
   "cell_type": "markdown",
   "id": "ba29fdde",
   "metadata": {},
   "source": [
    "**Observations:**\n",
    "* The mean (and median) times spent by those users who have not converted and have converted are close to 4 and 6.5 minutes, respectively.\n",
    "* The users spending more time on the news pages seem to be more likely to get converted."
   ]
  },
  {
   "cell_type": "markdown",
   "id": "dff5fbc0",
   "metadata": {},
   "source": [
    "#### Language Preferred VS Time Spent On The Page"
   ]
  },
  {
   "cell_type": "markdown",
   "id": "d20b02ec",
   "metadata": {},
   "source": [
    "plt.figure(figsize=(10,6))\n",
    "sns.boxplot(data=df,x='language_preferred',y='time_spent_on_the_page')\n",
    "plt.xlabel('Language Preferred')\n",
    "plt.ylabel('Time Spent On The Page')\n",
    "plt.show()"
   ]
  },
  {
   "cell_type": "markdown",
   "id": "fb9a37f1",
   "metadata": {},
   "source": [
    "**Observations:**\n",
    "* The time spent by the users preferring Spanish language has less dispersion compared to the times spent by the users preferring English and French languages.\n",
    "* The mean times spent by the users preferring French and English languages are the shortest and the longest, respectively. However, the mean spent times remain close."
   ]
  },
  {
   "cell_type": "markdown",
   "id": "669f733f",
   "metadata": {},
   "source": [
    "#### Conversion Status VS Preferred Language"
   ]
  },
  {
   "cell_type": "code",
   "execution_count": 208,
   "id": "db13c24d",
   "metadata": {},
   "outputs": [
    {
     "data": {
      "image/png": "[encoded data removed]",
      "text/plain": [
       "<Figure size 720x576 with 1 Axes>"
      ]
     },
     "metadata": {
      "needs_background": "light"
     },
     "output_type": "display_data"
    }
   ],
   "source": [
    "plt.figure(figsize = (10,8)) # set figure size\n",
    "sns.countplot(data = df, x = 'language_preferred', hue = 'converted', \n",
    "                  palette = 'Set1') # create a countplot with grouped bars\n",
    "\n",
    "plt.xlabel(\"Preferred Language\", fontsize = 16) # set x-axis label\n",
    "plt.ylabel(\"Number of Users\", fontsize = 16) # set y-axis label\n",
    "plt.ylim([0,25]) # set y-axis limits\n",
    "plt.legend(title = 'Conversion Status', loc = 'upper right'); # set legend title and location"
   ]
  },
  {
   "cell_type": "markdown",
   "id": "e79be82d",
   "metadata": {},
   "source": [
    "**Observations :**\n",
    "* Among the users, those with English and Spanish preferred languages have higher number of converted users than not converted.\n",
    "* In contrast, most of those users preferring French as their news language have not got converted."
   ]
  },
  {
   "cell_type": "markdown",
   "id": "ba2fb0d3",
   "metadata": {},
   "source": [
    "#### Conversion Status VS Landing Page"
   ]
  },
  {
   "cell_type": "code",
   "execution_count": 209,
   "id": "88005808",
   "metadata": {},
   "outputs": [
    {
     "data": {
      "image/png": "[encoded data removed]",
      "text/plain": [
       "<Figure size 720x576 with 1 Axes>"
      ]
     },
     "metadata": {
      "needs_background": "light"
     },
     "output_type": "display_data"
    }
   ],
   "source": [
    "plt.figure(figsize = (10,8)) # set figure size\n",
    "p = sns.countplot(data = df, x = 'converted', hue = 'landing_page', palette = 'Set2') \n",
    "# create a countplot with grouped bars\n",
    "\n",
    "plt.xlabel(\"Conversion Status\", fontsize = 16) # set x-axis label\n",
    "plt.ylabel(\"Number of Users\", fontsize = 16) # set y-axis label\n",
    "plt.ylim([0,40]) # set y-axis limits\n",
    "plt.legend(title = 'Landing Page', loc = 'upper right'); # set legend title and location"
   ]
  },
  {
   "cell_type": "markdown",
   "id": "4da051cc",
   "metadata": {},
   "source": [
    "**Observations :**\n",
    "* The majority of new page's users have got converted, whereas the majority of the old page's users have not got converted."
   ]
  },
  {
   "cell_type": "markdown",
   "id": "27906576",
   "metadata": {
    "id": "27906576"
   },
   "source": [
    "## 1. Do the users spend more time on the new landing page than the existing landing page?"
   ]
  },
  {
   "cell_type": "markdown",
   "id": "e5fdf0c8",
   "metadata": {
    "id": "e5fdf0c8"
   },
   "source": [
    "### Performing Visual Analysis"
   ]
  },
  {
   "cell_type": "code",
   "execution_count": 210,
   "id": "6eZJa41eg21n",
   "metadata": {
    "id": "6eZJa41eg21n"
   },
   "outputs": [
    {
     "data": {
      "image/png": "[encoded data removed]",
      "text/plain": [
       "<Figure size 576x432 with 1 Axes>"
      ]
     },
     "metadata": {
      "needs_background": "light"
     },
     "output_type": "display_data"
    }
   ],
   "source": [
    "# Visual analysis of the time spent on the New Page and Time Spent on the Old Page\n",
    "plt.figure(figsize=(8,6))\n",
    "sns.boxplot(data=df,x='landing_page',y='time_spent_on_the_page')\n",
    "plt.show()"
   ]
  },
  {
   "cell_type": "markdown",
   "id": "56b3dafd",
   "metadata": {
    "id": "56b3dafd"
   },
   "source": [
    "### Step 1: Define the null and alternate hypotheses"
   ]
  },
  {
   "cell_type": "markdown",
   "id": "d2ac77ef",
   "metadata": {
    "id": "d2ac77ef"
   },
   "source": [
    "Let $\\mu_1, \\mu_2$ be the daily mean time spent on the New Landing Page and daily mean time spent on the Old Landing Page respectively.\n",
    "\n",
    "We will test the null hypothesis\n",
    "\n",
    ">$H_0:\\mu_1=\\mu_2$\n",
    "\n",
    "against the alternate hypothesis\n",
    "\n",
    ">$H_a:\\mu_1>\\mu_2$"
   ]
  },
  {
   "cell_type": "markdown",
   "id": "c7ee4907",
   "metadata": {
    "id": "c7ee4907"
   },
   "source": [
    "### Step 2: Select Appropriate test"
   ]
  },
  {
   "cell_type": "markdown",
   "id": "2c183cd7",
   "metadata": {
    "id": "2c183cd7"
   },
   "source": [
    "This is a one-tailed test concerning two population means from two independent populations. The population standard deviations are unknown.So we will use a 2 sample independent t-test."
   ]
  },
  {
   "cell_type": "markdown",
   "id": "3f58c9a7",
   "metadata": {
    "id": "3f58c9a7"
   },
   "source": [
    "### Step 3: Decide the significance level"
   ]
  },
  {
   "cell_type": "markdown",
   "id": "92d7d7ee",
   "metadata": {
    "id": "92d7d7ee"
   },
   "source": [
    "As given in the problem Statement we select $\\alpha=0.05$"
   ]
  },
  {
   "cell_type": "markdown",
   "id": "5fed2eac",
   "metadata": {
    "id": "5fed2eac"
   },
   "source": [
    "### Step 4: Collect and prepare data"
   ]
  },
  {
   "cell_type": "code",
   "execution_count": 211,
   "id": "f5a59495",
   "metadata": {
    "id": "f5a59495"
   },
   "outputs": [],
   "source": [
    "# creating subsetted data frame for new landing page users \n",
    "time_spent_new = df[df['landing_page'] == 'new']['time_spent_on_the_page']\n",
    "\n",
    "# creating subsetted data frame for old landing page users\n",
    "time_spent_old = df[df['landing_page'] == 'old']['time_spent_on_the_page']"
   ]
  },
  {
   "cell_type": "code",
   "execution_count": 212,
   "id": "5219358d",
   "metadata": {},
   "outputs": [
    {
     "name": "stdout",
     "output_type": "stream",
     "text": [
      "The sample mean of the time spent on the new page is: 6.22\n",
      "The sample mean of the time spent on the old page is: 4.53\n",
      "The sample standard deviation of the time spent on the new page is: 1.82\n",
      "The sample standard deviation of the time spent on the old page is: 2.58\n"
     ]
    }
   ],
   "source": [
    "print('The sample mean of the time spent on the new page is:', round(time_spent_new.mean(),2))\n",
    "print('The sample mean of the time spent on the old page is:', round(time_spent_old.mean(),2))\n",
    "print('The sample standard deviation of the time spent on the new page is:', round(time_spent_new.std(),2))\n",
    "print('The sample standard deviation of the time spent on the old page is:', round(time_spent_old.std(),2))"
   ]
  },
  {
   "cell_type": "markdown",
   "id": "c3682b7d",
   "metadata": {},
   "source": [
    "#### Let's check whether the T-test assumptions are satisfied or not                \n",
    "Continuous data - Yes, the time spent on landing page is measured on a continuous scale.               \n",
    "Normally distributed populations - Yes, we can see from the analysis of time spent by users on landing page and assume populations to be Normally distributed.                          \n",
    "Independent populations - As we can see see that 100 random users are selected and divided into two equal independent groups of Population.                            \n",
    "Unequal population standard deviations - As the sample standard deviations are different, the population standard deviations may be assumed to be different.                      \n",
    "Random sampling from the population - Yes, we are informed that the collected sample are of a simple random sample.                   \n",
    "Voila! We can use two sample T-test for this problem."
   ]
  },
  {
   "cell_type": "markdown",
   "id": "f5c5258d",
   "metadata": {
    "id": "f5c5258d"
   },
   "source": [
    "### Step 5: Calculate the p-value"
   ]
  },
  {
   "cell_type": "code",
   "execution_count": 213,
   "id": "fac8594a",
   "metadata": {
    "id": "fac8594a"
   },
   "outputs": [
    {
     "name": "stdout",
     "output_type": "stream",
     "text": [
      "The p-value is0.0001392381225166549\n"
     ]
    }
   ],
   "source": [
    "# writing the code to import the required function\n",
    "from scipy.stats import ttest_ind\n",
    "\n",
    "# writing the code to calculate the p-value\n",
    "test_stat, p_value =  ttest_ind(time_spent_new, time_spent_old, equal_var = False, alternative ='greater')\n",
    "\n",
    "print('The p-value is' + str(p_value))"
   ]
  },
  {
   "cell_type": "markdown",
   "id": "359b12f8",
   "metadata": {
    "id": "359b12f8"
   },
   "source": [
    "### Step 6: Compare the p-value with $\\alpha$"
   ]
  },
  {
   "cell_type": "code",
   "execution_count": 214,
   "id": "7be47289",
   "metadata": {
    "id": "7be47289"
   },
   "outputs": [
    {
     "name": "stdout",
     "output_type": "stream",
     "text": [
      "As the p-value 0.0001392381225166549 is less than the level of significance, we reject the null hypothesis.\n"
     ]
    }
   ],
   "source": [
    "# printing the conclusion based on p-value\n",
    "if p_value < 0.05:\n",
    "    print(f'As the p-value {p_value} is less than the level of significance, we reject the null hypothesis.')\n",
    "else:\n",
    "    print(f'As the p-value {p_value} is greater than the level of significance, we fail to reject the null hypothesis.')"
   ]
  },
  {
   "cell_type": "markdown",
   "id": "d9affc84",
   "metadata": {
    "id": "d9affc84"
   },
   "source": [
    "### Step 7:  Draw inference"
   ]
  },
  {
   "cell_type": "markdown",
   "id": "6b16dd4b",
   "metadata": {
    "id": "6b16dd4b"
   },
   "source": [
    "As the p-value(~0.000139) is much smaller than the level of significance, we can reject the null hypothesis. Hence we have enough significance to conclude that the users spend more time on the New Landing Page compared to the Old Landing Page at a 0.05 Siginificance Level."
   ]
  },
  {
   "cell_type": "markdown",
   "id": "1ad0823a",
   "metadata": {
    "id": "1ad0823a"
   },
   "source": [
    "**A similar approach can be followed to answer the other questions.**"
   ]
  },
  {
   "cell_type": "markdown",
   "id": "353e9d24",
   "metadata": {
    "id": "353e9d24"
   },
   "source": [
    "## 2. Is the conversion rate (the proportion of users who visit the landing page and get converted) for the new page greater than the conversion rate for the old page?"
   ]
  },
  {
   "cell_type": "code",
   "execution_count": 215,
   "id": "74921bf2",
   "metadata": {},
   "outputs": [
    {
     "data": {
      "text/html": [
       "<div>\n",
       "<style scoped>\n",
       "    .dataframe tbody tr th:only-of-type {\n",
       "        vertical-align: middle;\n",
       "    }\n",
       "\n",
       "    .dataframe tbody tr th {\n",
       "        vertical-align: top;\n",
       "    }\n",
       "\n",
       "    .dataframe thead th {\n",
       "        text-align: right;\n",
       "    }\n",
       "</style>\n",
       "<table border=\"1\" class=\"dataframe\">\n",
       "  <thead>\n",
       "    <tr style=\"text-align: right;\">\n",
       "      <th>converted</th>\n",
       "      <th>no</th>\n",
       "      <th>yes</th>\n",
       "      <th>All</th>\n",
       "    </tr>\n",
       "    <tr>\n",
       "      <th>landing_page</th>\n",
       "      <th></th>\n",
       "      <th></th>\n",
       "      <th></th>\n",
       "    </tr>\n",
       "  </thead>\n",
       "  <tbody>\n",
       "    <tr>\n",
       "      <th>new</th>\n",
       "      <td>17</td>\n",
       "      <td>33</td>\n",
       "      <td>50</td>\n",
       "    </tr>\n",
       "    <tr>\n",
       "      <th>old</th>\n",
       "      <td>29</td>\n",
       "      <td>21</td>\n",
       "      <td>50</td>\n",
       "    </tr>\n",
       "    <tr>\n",
       "      <th>All</th>\n",
       "      <td>46</td>\n",
       "      <td>54</td>\n",
       "      <td>100</td>\n",
       "    </tr>\n",
       "  </tbody>\n",
       "</table>\n",
       "</div>"
      ],
      "text/plain": [
       "converted     no  yes  All\n",
       "landing_page              \n",
       "new           17   33   50\n",
       "old           29   21   50\n",
       "All           46   54  100"
      ]
     },
     "execution_count": 215,
     "metadata": {},
     "output_type": "execute_result"
    }
   ],
   "source": [
    "# creating a contingency table to tabulate the frequencies of the two categorical variables\n",
    "pd.crosstab(df.landing_page,df.converted,margins=True)"
   ]
  },
  {
   "cell_type": "markdown",
   "id": "6c698a34",
   "metadata": {},
   "source": [
    "* There are total 100 users in the sample.\n",
    "* In the New Landing Page 33 out of 50 (66%) users are converted.\n",
    "* In the Old Landing Page 21 out of 50 (42%) users are converted."
   ]
  },
  {
   "cell_type": "markdown",
   "id": "7d1bffab",
   "metadata": {},
   "source": [
    "To visualize the relationship between the two categorical variables, we  plot a stacked bar chart.\n",
    "\n",
    "* A stacked bar chart, also known as a stacked bar graph, is a graph that is used to break down and compare parts of a whole\n",
    "* Each bar in the chart represents a whole, and segments in the bar represent different parts or categories of that whole\n",
    "* Different colors are used to illustrate the different categories in the bar."
   ]
  },
  {
   "cell_type": "markdown",
   "id": "1b17c26a",
   "metadata": {
    "id": "b7f52898"
   },
   "source": [
    "#### Performing Visual Analysis"
   ]
  },
  {
   "cell_type": "code",
   "execution_count": 216,
   "id": "1a519ca0",
   "metadata": {},
   "outputs": [
    {
     "data": {
      "image/png": "[encoded data removed]",
      "text/plain": [
       "<Figure size 720x576 with 1 Axes>"
      ]
     },
     "metadata": {
      "needs_background": "light"
     },
     "output_type": "display_data"
    }
   ],
   "source": [
    "# visually comparing the conversion rate for the new page and the conversion rate for the old page\n",
    "pd.crosstab(df['landing_page'],df['converted'],normalize='index').plot(kind=\"bar\", figsize=(10,8),stacked=True)\n",
    "plt.legend()\n",
    "plt.show()"
   ]
  },
  {
   "cell_type": "markdown",
   "id": "44fc6d0a",
   "metadata": {},
   "source": [
    "* The proportion of converted users is higher on the New Landing Page compared to the Old Landing Page users."
   ]
  },
  {
   "cell_type": "markdown",
   "id": "c5426348",
   "metadata": {},
   "source": [
    "### Step 1: Define the null and alternate hypotheses"
   ]
  },
  {
   "cell_type": "markdown",
   "id": "7642c221",
   "metadata": {},
   "source": [
    "Let $p_1, p_2$ be the proportions of the users getting converted on the New Landing Page and on the Old Landing Page respectively.\n",
    "\n",
    "We will test the null hypothesis\n",
    "\n",
    ">$H_0:p_1=p_2$\n",
    "\n",
    "against the alternate hypothesis\n",
    ">$H_a:p_1>p_2$"
   ]
  },
  {
   "cell_type": "markdown",
   "id": "ba64b92d",
   "metadata": {},
   "source": [
    "### Step 2: Select Appropriate test"
   ]
  },
  {
   "cell_type": "markdown",
   "id": "8230b8c1",
   "metadata": {},
   "source": [
    "This is a one-tailed test concerning two population proportions from two independent populations. So we will use a Two Proportion Z-test."
   ]
  },
  {
   "cell_type": "markdown",
   "id": "be7d7828",
   "metadata": {},
   "source": [
    "### Step 3: Decide the significance level"
   ]
  },
  {
   "cell_type": "markdown",
   "id": "ac3b8014",
   "metadata": {},
   "source": [
    "As given in the problem Statement we select $\\alpha=0.05$"
   ]
  },
  {
   "cell_type": "markdown",
   "id": "c9c53737",
   "metadata": {},
   "source": [
    "### Step 4: Collect and Prepare Data"
   ]
  },
  {
   "cell_type": "code",
   "execution_count": 217,
   "id": "b9685f7d",
   "metadata": {},
   "outputs": [
    {
     "name": "stdout",
     "output_type": "stream",
     "text": [
      "The numbers of users served the new and old pages are 50 and 50 respectively\n"
     ]
    }
   ],
   "source": [
    "# calculating the number of converted users in the treatment group\n",
    "new_converted = df[df['group'] == 'treatment']['converted'].value_counts()['yes']\n",
    "# calculating the number of converted users in the control group\n",
    "old_converted = df[df['group'] == 'control']['converted'].value_counts()['yes']\n",
    "\n",
    "n_control = df.group.value_counts()['control'] # total number of users in the control group\n",
    "n_treatment = df.group.value_counts()['treatment'] # total number of users in the treatment group\n",
    "\n",
    "print('The numbers of users served the new and old pages are {0} and {1} respectively'.format(n_control, n_treatment ))"
   ]
  },
  {
   "cell_type": "markdown",
   "id": "3e18d4d1",
   "metadata": {},
   "source": [
    "#### Let's check wheather the proportions z-test assumptions are satisfied or not."
   ]
  },
  {
   "cell_type": "markdown",
   "id": "32327df7",
   "metadata": {},
   "source": [
    "*   Binomally distributed population - Yes, a product is either defective or non-defective.\n",
    "*   Random sampling from the population - Yes, we are informed that the collected sample is a simple random sample.  \n",
    "*   Can the binomial distribution approximated to normal distribution - Yes. For binary data, CLT works slower than usual. The standard thing is to check whether np and n(1-p) are greater than or equal to 10. Here, n and p refer to the sample size and sample proportion respectively.\n",
    ">$np_1 = 50\\cdot \\frac{33}{50} =33 \\geq 10\\\\\n",
    "n(1-p_1) = 50 \\cdot \\frac{50-33}{50} =17 \\geq 10 \\\\\n",
    "np_2 = 50\\cdot \\frac{21}{50} =21 \\geq 10\\\\\n",
    "n(1-p_2) = 50 \\cdot \\frac{50-21}{50} =29 \\geq 10 $"
   ]
  },
  {
   "cell_type": "markdown",
   "id": "fc10539a",
   "metadata": {},
   "source": [
    "### Step 5: Calculate the p-value"
   ]
  },
  {
   "cell_type": "code",
   "execution_count": 218,
   "id": "dfaa3249",
   "metadata": {},
   "outputs": [
    {
     "name": "stdout",
     "output_type": "stream",
     "text": [
      "The p-value is 0.008026308204056278\n"
     ]
    }
   ],
   "source": [
    "# writing the code to import the required function\n",
    "from statsmodels.stats.proportion import proportions_ztest   \n",
    "\n",
    "# writing the code to calculate the p-value\n",
    "test_stat, p_value = proportions_ztest([new_converted, old_converted] , [n_treatment, n_control], alternative ='larger') \n",
    "\n",
    "\n",
    "print('The p-value is', p_value)"
   ]
  },
  {
   "cell_type": "markdown",
   "id": "07513926",
   "metadata": {},
   "source": [
    "### Step 6: Compare the p-value with $\\alpha$"
   ]
  },
  {
   "cell_type": "code",
   "execution_count": 219,
   "id": "07fb4625",
   "metadata": {
    "scrolled": true
   },
   "outputs": [
    {
     "name": "stdout",
     "output_type": "stream",
     "text": [
      "As the p-value 0.008026308204056278 is less than the level of significance, we reject the null hypothesis.\n"
     ]
    }
   ],
   "source": [
    "# print the conclusion based on p-value\n",
    "if p_value < 0.05:\n",
    "    print(f'As the p-value {p_value} is less than the level of significance, we reject the null hypothesis.')\n",
    "else:\n",
    "    print(f'As the p-value {p_value} is greater than the level of significance, we fail to reject the null hypothesis.')"
   ]
  },
  {
   "cell_type": "markdown",
   "id": "c47b780e",
   "metadata": {},
   "source": [
    "### Step 7: Draw Inference"
   ]
  },
  {
   "cell_type": "markdown",
   "id": "c054642c",
   "metadata": {},
   "source": [
    "As the p-value is smaller than the significance level 0.05 we **reject** the null hypothesis. Thus the **ENews Express** has enough statistical evidence to conclude that the conversion rate for the new page is **greater** than the conversion rate for the old page."
   ]
  },
  {
   "cell_type": "markdown",
   "id": "d49bfa2d",
   "metadata": {
    "id": "d49bfa2d"
   },
   "source": [
    "## 3. Is the conversion and preferred language are independent or related?"
   ]
  },
  {
   "cell_type": "markdown",
   "id": "30767248",
   "metadata": {},
   "source": [
    "To visualize the relationship between the two categorical variables, we  plot a stacked bar chart.\n",
    "\n",
    "* A stacked bar chart, also known as a stacked bar graph, is a graph that is used to break down and compare parts of a whole\n",
    "* Each bar in the chart represents a whole, and segments in the bar represent different parts or categories of that whole\n",
    "* Different colors are used to illustrate the different categories in the bar."
   ]
  },
  {
   "cell_type": "markdown",
   "id": "b6a4a6e0",
   "metadata": {},
   "source": [
    "#### Perform Visual Analysis"
   ]
  },
  {
   "cell_type": "code",
   "execution_count": 220,
   "id": "41286863",
   "metadata": {},
   "outputs": [
    {
     "data": {
      "image/png": "[encoded data removed]",
      "text/plain": [
       "<Figure size 1080x576 with 1 Axes>"
      ]
     },
     "metadata": {
      "needs_background": "light"
     },
     "output_type": "display_data"
    }
   ],
   "source": [
    "# visually ploting the dependency between conversion status and preferred langauge\n",
    "pd.crosstab(df['language_preferred'],df['converted'],normalize='index').plot(kind=\"bar\", figsize=(15,8), stacked=True)\n",
    "plt.legend()\n",
    "plt.show()"
   ]
  },
  {
   "cell_type": "markdown",
   "id": "668a8d33",
   "metadata": {},
   "source": [
    "###  Step 1: Define the null and alternate hypotheses."
   ]
  },
  {
   "cell_type": "markdown",
   "id": "1ab34091",
   "metadata": {},
   "source": [
    "### Let's write the null and alternative hypothesis\n",
    "\n",
    "\n",
    "We will test the null hypothesis\n",
    "\n",
    ">$H_0:$ Language Preferred is independent of Conversion Status.\n",
    "\n",
    "against the alternate hypothesis\n",
    "\n",
    ">$H_a:$  Language Preferred is dependent of Conversion Status"
   ]
  },
  {
   "cell_type": "markdown",
   "id": "00c4e934",
   "metadata": {},
   "source": [
    "### Step 2: Select the appropriate Test"
   ]
  },
  {
   "cell_type": "markdown",
   "id": "8f8f4ff1",
   "metadata": {},
   "source": [
    "This is a problem of the test of independence, concerning two categorical variables - converted status and preferred language. The number of observations in each group of data is above 5 and the samples have been randomly selected. So we will use **Chi-Sqaure Test For Independence**."
   ]
  },
  {
   "cell_type": "markdown",
   "id": "0fa22a6a",
   "metadata": {},
   "source": [
    "### Step 3: Decide the significance Level."
   ]
  },
  {
   "cell_type": "markdown",
   "id": "668333f6",
   "metadata": {},
   "source": [
    "As given in the problem statement we select $\\alpha=0.05$"
   ]
  },
  {
   "cell_type": "markdown",
   "id": "33539c67",
   "metadata": {},
   "source": [
    "### Step 4: Collect and Prepare Data "
   ]
  },
  {
   "cell_type": "code",
   "execution_count": 221,
   "id": "8b454d10",
   "metadata": {},
   "outputs": [
    {
     "data": {
      "text/html": [
       "<div>\n",
       "<style scoped>\n",
       "    .dataframe tbody tr th:only-of-type {\n",
       "        vertical-align: middle;\n",
       "    }\n",
       "\n",
       "    .dataframe tbody tr th {\n",
       "        vertical-align: top;\n",
       "    }\n",
       "\n",
       "    .dataframe thead th {\n",
       "        text-align: right;\n",
       "    }\n",
       "</style>\n",
       "<table border=\"1\" class=\"dataframe\">\n",
       "  <thead>\n",
       "    <tr style=\"text-align: right;\">\n",
       "      <th>converted</th>\n",
       "      <th>no</th>\n",
       "      <th>yes</th>\n",
       "    </tr>\n",
       "    <tr>\n",
       "      <th>language_preferred</th>\n",
       "      <th></th>\n",
       "      <th></th>\n",
       "    </tr>\n",
       "  </thead>\n",
       "  <tbody>\n",
       "    <tr>\n",
       "      <th>English</th>\n",
       "      <td>11</td>\n",
       "      <td>21</td>\n",
       "    </tr>\n",
       "    <tr>\n",
       "      <th>French</th>\n",
       "      <td>19</td>\n",
       "      <td>15</td>\n",
       "    </tr>\n",
       "    <tr>\n",
       "      <th>Spanish</th>\n",
       "      <td>16</td>\n",
       "      <td>18</td>\n",
       "    </tr>\n",
       "  </tbody>\n",
       "</table>\n",
       "</div>"
      ],
      "text/plain": [
       "converted           no  yes\n",
       "language_preferred         \n",
       "English             11   21\n",
       "French              19   15\n",
       "Spanish             16   18"
      ]
     },
     "execution_count": 221,
     "metadata": {},
     "output_type": "execute_result"
    }
   ],
   "source": [
    "# creating a contingency table to tabulate the frequencies of the two categorical variables\n",
    "contingency_table = pd.crosstab(df['language_preferred'], df['converted'])  \n",
    "\n",
    "contingency_table"
   ]
  },
  {
   "cell_type": "markdown",
   "id": "05944858",
   "metadata": {},
   "source": [
    "* There are total 100 users in the sample.\n",
    "* Of the English language preferred users 21 out of 32 (65.62%) users are converted.\n",
    "* Of the French Language preferred users  15 out of 34 (44.11%) users are converted.\n",
    "* Of the Spanish Language Preferred users 18 out of 34 (52.94%) users are converted."
   ]
  },
  {
   "cell_type": "markdown",
   "id": "44983866",
   "metadata": {},
   "source": [
    "### Step 5: Calculate the p-value"
   ]
  },
  {
   "cell_type": "code",
   "execution_count": 222,
   "id": "cade06a4",
   "metadata": {},
   "outputs": [
    {
     "name": "stdout",
     "output_type": "stream",
     "text": [
      "The p-value is 0.2129888748754345\n"
     ]
    }
   ],
   "source": [
    "# writing the code to import the required function\n",
    "from scipy.stats import  chi2_contingency\n",
    "\n",
    "# writing the code to calculate the p-value\n",
    "chi2, p_value, dof, exp_freq =chi2_contingency(contingency_table) \n",
    "\n",
    "print('The p-value is', p_value)"
   ]
  },
  {
   "cell_type": "markdown",
   "id": "316ea564",
   "metadata": {},
   "source": [
    "### Step 6: Compare the p-value with $\\alpha$"
   ]
  },
  {
   "cell_type": "code",
   "execution_count": 223,
   "id": "4e7df88d",
   "metadata": {},
   "outputs": [
    {
     "name": "stdout",
     "output_type": "stream",
     "text": [
      "As the p-value 0.2129888748754345 is greater than the level of significance, we fail to reject the null hypothesis.\n"
     ]
    }
   ],
   "source": [
    "# printing the conclusion based on p-value\n",
    "if p_value < 0.05:\n",
    "    print(f'As the p-value {p_value} is less than the level of significance, we reject the null hypothesis.')\n",
    "else:\n",
    "    print(f'As the p-value {p_value} is greater than the level of significance, we fail to reject the null hypothesis.')"
   ]
  },
  {
   "cell_type": "markdown",
   "id": "0afa4147",
   "metadata": {},
   "source": [
    "### Step 7: Draw Inference"
   ]
  },
  {
   "cell_type": "markdown",
   "id": "6bed4314",
   "metadata": {},
   "source": [
    "As the p-value is greater than the significance level, we can not reject the null hypothesis. Hence, we do not have enough statistical significance to conclude that Conversion rates depends on Preferred Languages at a 5% significance level."
   ]
  },
  {
   "cell_type": "markdown",
   "id": "8d585a90",
   "metadata": {
    "id": "8d585a90"
   },
   "source": [
    "## 4. Is the time spent on the new page same for the different language users?"
   ]
  },
  {
   "cell_type": "markdown",
   "id": "4a540512",
   "metadata": {
    "id": "b422f395"
   },
   "source": [
    "#### Perform Visual Analysis"
   ]
  },
  {
   "cell_type": "code",
   "execution_count": 224,
   "id": "cd3cb889",
   "metadata": {},
   "outputs": [],
   "source": [
    "# creating a new DataFrame for users who got served the new page\n",
    "df_new = df[df['landing_page'] == 'new']"
   ]
  },
  {
   "cell_type": "code",
   "execution_count": 225,
   "id": "353b4e7d",
   "metadata": {},
   "outputs": [
    {
     "data": {
      "image/png": "[encoded data removed]",
      "text/plain": [
       "<Figure size 576x576 with 1 Axes>"
      ]
     },
     "metadata": {
      "needs_background": "light"
     },
     "output_type": "display_data"
    }
   ],
   "source": [
    "# writing code to visually plot the time spent on the new page for different language users\n",
    "plt.figure(figsize=(8,8))\n",
    "sns.boxplot(x = 'language_preferred', y = 'time_spent_on_the_page', showmeans = True, data = df_new)\n",
    "plt.xlabel('Language Preferred')\n",
    "plt.ylabel('Time Spent On The Page')\n",
    "plt.show()\n"
   ]
  },
  {
   "cell_type": "code",
   "execution_count": 226,
   "id": "7cf30870",
   "metadata": {},
   "outputs": [
    {
     "data": {
      "text/plain": [
       "language_preferred\n",
       "English    6.663750\n",
       "French     6.196471\n",
       "Spanish    5.835294\n",
       "Name: time_spent_on_the_page, dtype: float64"
      ]
     },
     "execution_count": 226,
     "metadata": {},
     "output_type": "execute_result"
    }
   ],
   "source": [
    "# writing the code to calculate the mean time spent on the new page for different language users\n",
    "df_new.groupby(['language_preferred'])['time_spent_on_the_page'].mean()"
   ]
  },
  {
   "cell_type": "markdown",
   "id": "754591d2",
   "metadata": {},
   "source": [
    "### Let's write the null and alternative hypothesis\n",
    "\n",
    "Let $\\mu_1, \\mu_2, \\mu_3$ be the means of time spent on the new landing page for language preferred English, French and Spanish respectively.\n",
    "\n",
    "We will test the null hypothesis\n",
    "\n",
    ">$H_0: \\mu_1 = \\mu_2 = \\mu_3$\n",
    "\n",
    "against the alternative hypothesis\n",
    "\n",
    ">$H_a: $ At least one mean time of time spent on the page of preferred language users is different from the rest."
   ]
  },
  {
   "cell_type": "markdown",
   "id": "76b79d36",
   "metadata": {},
   "source": [
    "### Step 2: Select Appropriate Test"
   ]
  },
  {
   "cell_type": "markdown",
   "id": "7811befd",
   "metadata": {},
   "source": [
    "This is a problem, concerning three population means.So we will use the One-way ANOVA Test."
   ]
  },
  {
   "cell_type": "markdown",
   "id": "46da68f4",
   "metadata": {},
   "source": [
    "Now, the normality and equality of variance assumptions need to be checked.\n",
    "\n",
    "* For testing of normality, Shapiro-Wilk’s test is applied to the response variable.\n",
    "\n",
    "* For equality of variance, Levene test is applied to the response variable."
   ]
  },
  {
   "cell_type": "markdown",
   "id": "4a64980e",
   "metadata": {},
   "source": [
    "### Step 3: Decide the significance level\n",
    "\n",
    "As given in the problem statement we select $\\alpha=0.05$."
   ]
  },
  {
   "cell_type": "markdown",
   "id": "20bc544f",
   "metadata": {},
   "source": [
    "### Step 4: Collect and Prepare Data."
   ]
  },
  {
   "cell_type": "code",
   "execution_count": 227,
   "id": "26009c11",
   "metadata": {},
   "outputs": [],
   "source": [
    "# creating a subsetted data frame of the time spent on the new page by English language users \n",
    "time_spent_English = df_new[df_new['language_preferred']==\"English\"]['time_spent_on_the_page']\n",
    "# creating a subsetted data frames of the time spent on the new page by French language users\n",
    "time_spent_French = df_new[df_new['language_preferred']=='French']['time_spent_on_the_page'] \n",
    "# creating a subsetted data frames of the time spent on the new page by Spanish language users\n",
    "time_spent_Spanish = df_new[df_new['language_preferred']=='Spanish']['time_spent_on_the_page'] "
   ]
  },
  {
   "cell_type": "markdown",
   "id": "f31f1ea4",
   "metadata": {},
   "source": [
    "### Shapiro-Wilk’s test\n",
    "\n",
    "We will test the null hypothesis\n",
    "\n",
    ">$H_0:$ Time spent on the new landing page follows a normal distribution against\n",
    "\n",
    "against the alternative hypothesis\n",
    "\n",
    ">$H_a:$ Time Spent on the New landing page does not follow a normal distribution"
   ]
  },
  {
   "cell_type": "code",
   "execution_count": 228,
   "id": "f247c750",
   "metadata": {},
   "outputs": [
    {
     "name": "stdout",
     "output_type": "stream",
     "text": [
      "The p-value is 0.8040016293525696\n"
     ]
    }
   ],
   "source": [
    "# Assumption 1: Normality\n",
    "# The shapiro() function of Scipy will be used to compute the test statistic and p-value.\n",
    "# importing the required function\n",
    "from scipy import stats\n",
    "\n",
    "# finding the p-value\n",
    "w, p_value = stats.shapiro(df_new['time_spent_on_the_page']) \n",
    "print('The p-value is', p_value)"
   ]
  },
  {
   "cell_type": "markdown",
   "id": "662a0639",
   "metadata": {},
   "source": [
    "**Since p-value of the test is very large, we fail to reject the null hypothesis that the response follows the normal distribution.**"
   ]
  },
  {
   "cell_type": "markdown",
   "id": "4bba4b75",
   "metadata": {},
   "source": [
    "### Levene’s test\n",
    "\n",
    "We will test the null hypothesis\n",
    "\n",
    ">$H_0$: All the population variances are equal\n",
    "\n",
    "against the alternative hypothesis\n",
    "\n",
    ">$H_a$: At least one variance is different from the rest"
   ]
  },
  {
   "cell_type": "code",
   "execution_count": 230,
   "id": "d88c7865",
   "metadata": {},
   "outputs": [
    {
     "name": "stdout",
     "output_type": "stream",
     "text": [
      "The p-value is 0.46711357711340173\n"
     ]
    }
   ],
   "source": [
    "#Assumption 2: Homogeneity of Variance\n",
    "# The levene() function of Scipy will be used to compute the test statistic and p-value.\n",
    "#importing the required function\n",
    "from scipy.stats import levene\n",
    "statistic, p_value = levene( df_new['time_spent_on_the_page'][df_new['language_preferred']==\"English\"], \n",
    "                                   df_new['time_spent_on_the_page'][df_new['language_preferred']==\"French\"], \n",
    "                                   df_new['time_spent_on_the_page'][df_new['language_preferred']==\"Spanish\"])\n",
    "# finding the p-value\n",
    "print('The p-value is', p_value)"
   ]
  },
  {
   "cell_type": "markdown",
   "id": "0c62de99",
   "metadata": {},
   "source": [
    "**Since the p-value is large, we fail to reject the null hypothesis of homogeneity of variances.**"
   ]
  },
  {
   "cell_type": "markdown",
   "id": "61a53ecc",
   "metadata": {},
   "source": [
    "***Let's test whether the assumptions are satisfied or not***\n",
    "* The populations are normally distributed - Yes, the normality assumption is verified using the Shapiro-Wilk’s test.\n",
    "* Samples are independent simple random samples - Yes, we are informed that the collected sample is a simple random sample.\n",
    "* Population variances are equal - Yes, the homogeneity of variance assumption is verified using the Levene's test."
   ]
  },
  {
   "cell_type": "markdown",
   "id": "a5980cf3",
   "metadata": {},
   "source": [
    "### Step 5: Calculate the p-value"
   ]
  },
  {
   "cell_type": "code",
   "execution_count": null,
   "id": "9f973c38",
   "metadata": {},
   "outputs": [],
   "source": [
    "# complete the code to import the required function\n",
    "from scipy.stats import f_oneway \n",
    "\n",
    "# write the code to calculate the p-value\n",
    "test_stat, p_value = f_oneway(time_spent_English, time_spent_French, time_spent_Spanish)   \n",
    "print('The p-value is', p_value)"
   ]
  },
  {
   "cell_type": "markdown",
   "id": "b62280c4",
   "metadata": {},
   "source": [
    "### Step 6: Compare the p-value with $\\alpha$"
   ]
  },
  {
   "cell_type": "code",
   "execution_count": null,
   "id": "26ac486b",
   "metadata": {},
   "outputs": [],
   "source": [
    "# print the conclusion based on p-value\n",
    "if p_value < 0.05:\n",
    "    print(f'As the p-value {p_value} is less than the level of significance, we reject the null hypothesis.')\n",
    "else:\n",
    "    print(f'As the p-value {p_value} is greater than the level of significance, we fail to reject the null hypothesis.')"
   ]
  },
  {
   "cell_type": "markdown",
   "id": "fbf35c18",
   "metadata": {},
   "source": [
    "### Step 7: Draw inference"
   ]
  },
  {
   "cell_type": "markdown",
   "id": "ce516ec8",
   "metadata": {},
   "source": [
    "* As the computed p-value is found to be much greater than the selected level of significance (0.43204 > 0.05), we may not reject the null hypothesis. As a result, there is not enough evidence at 5% significance level to conclude that the spent times on the new page depend on the preferred languages.\n",
    "* As the p-value is much greater than the significance level, we fail to reject the null hypothesis. Hence, we do have enough statistical significance to conclude that time spent on the new landing page by different language users can be assumed to be same at a 5% significance level."
   ]
  },
  {
   "cell_type": "markdown",
   "id": "3acbc947",
   "metadata": {
    "id": "3acbc947"
   },
   "source": [
    "## Conclusion and Business Recommendations"
   ]
  },
  {
   "cell_type": "markdown",
   "id": "21fb1063",
   "metadata": {
    "id": "21fb1063"
   },
   "source": [
    "### **Conclusions and recommendations based on Exploratory Data Analysis (EDA):**\n",
    "\n",
    "* The mean and the median of the time spent by the sampled users are both close to 5.4 minutes. The maximum time spent by the users is only 10.7 minutes. These values seem small for a successful news portal and the company needs to find ways to improve its user attraction.\n",
    "* Only slightly above half of all the sampled users (54%) have converted to subscribers. Though I am not aware of this rate for popular international news portals, a rate of 54% seems small and the company needs to take appropriate measures to increase this rate.\n",
    "* The available language options (English, French, and Spanish) have all been preferred by nearly similar proportions of users (32%, 34%, and 34%). Thus, it would be wise to keep the news in all three languages available to the users.\n",
    "* The users landing on the new page seem to have spent a longer time on the portal than the users of landing on the old page. *Though statistical testing is required to confirm this, it appears that the new page is more successful in drawing the users' attention.\n",
    "* The times spent by the users with various language preferences have close means. This indicates that the language preference may have insignificant effect on the users' attraction to the portal.\n",
    "* The users who have got converted to subscribers seem to have spent longer times on the portal. This finding could be predicted and implies that the longer the news pages could keep the users hooked, the more likely it gets for them to subscribe to the portal.\n",
    "* Even though most of the users of the new page have got converted, most of the users of the old page have not got converted. This implies the more success of the new page to attract the users compared to the old page, while this hypothesis was tested and its finding will be pointed out below.\n",
    "* The conversion rates seem to be different for the users preferring different languages. This hypothesis was tested and its conclusion is discussed below, too."
   ]
  },
  {
   "cell_type": "markdown",
   "id": "a99b0060",
   "metadata": {},
   "source": [
    "### **Conclusions and recommendations based on hypothesis tests:**\n",
    "\n",
    "* Based on a 2-sample independent t-test, the mean time spent on the news portal by the users landing on the new page is larger than that by the users landing on the old page. Accordingly, the company is recommended to fully adopt the new landing page to increase its success.\n",
    "* Based on a 2-proportion z-test, the conversion rate for the users landing on the new page was found to be larger than conversion rate for the users landing on the old page. As the previous test regarding the mean spent times suggested, the company is recommended to use its new page design to increase its subscribers.\n",
    "* Although EDA suggested the opposite, based on a chi-squared test of independence, it was found that the the conversion rate does not depend on the preferred language. As a result of this and given all the three available languages have similar popularity among the users, the company is recommended to keep publishing its news in all three languages (just to reach to the audience with various languages).\n",
    "* Based on a one-way ANOVA test, the mean times spent by the users of the new page with various language preferences were not found different. As suggested earlier based on other test results, the company is recommended to keep all its three languages available, as none of them seem to encourage more users to subscribe or spend more time on the portal."
   ]
  },
  {
   "cell_type": "markdown",
   "id": "U0dAd4i0iCHo",
   "metadata": {
    "id": "U0dAd4i0iCHo"
   },
   "source": [
    "___"
   ]
  }
 ],
 "metadata": {
  "colab": {
   "collapsed_sections": [
    "a6a3d218",
    "6970dd99",
    "9d75cfa2",
    "68f3b2c9",
    "fad2de2f",
    "27906576",
    "e5fdf0c8",
    "56b3dafd",
    "c7ee4907",
    "3f58c9a7",
    "5fed2eac",
    "f5c5258d",
    "359b12f8",
    "d9affc84",
    "353e9d24",
    "d49bfa2d",
    "8d585a90",
    "3acbc947"
   ],
   "name": "ENews_Express_Learner_Notebook_Full_Code v1.1.ipynb",
   "provenance": []
  },
  "kernelspec": {
   "display_name": "Python 3",
   "language": "python",
   "name": "python3"
  },
  "language_info": {
   "codemirror_mode": {
    "name": "ipython",
    "version": 3
   },
   "file_extension": ".py",
   "mimetype": "text/x-python",
   "name": "python",
   "nbconvert_exporter": "python",
   "pygments_lexer": "ipython3",
   "version": "3.8.8"
  }
 },
 "nbformat": 4,
 "nbformat_minor": 5
}
